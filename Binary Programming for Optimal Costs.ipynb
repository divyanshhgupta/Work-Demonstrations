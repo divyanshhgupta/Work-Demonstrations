import sympy as sp
import pandas as pd
import gurobipy as gp
from gurobipy import GRB
import pandas as pd
from gurobipy import Model, GRB, quicksum
import numpy as np
from scipy.optimize import minimize_scalar
import matplotlib.pyplot as plt

# Load the dataset
price_df = pd.read_csv("https://raw.githubusercontent.com/selvinfurtado01/operational_reserach/refs/heads/main/price_response.csv")

# Display basic information about the dataset
price_df.info()

price_df.head()

# Question 1

## Part A: Optimal Prices for Week 1 and Week 2 for TechSmart Watch

# Create a Gurobi model
model = Model("Optimal Pricing")

# Define decision variables (prices for Week 1 and Week 2)
P1 = model.addVar(name="P1", vtype=GRB.CONTINUOUS, lb=0)  # Price for Week 1 (non-negative)
P2 = model.addVar(name="P2", vtype=GRB.CONTINUOUS, lb=0)  # Price for Week 2 (non-negative)

# Define demand functions based on Table 2
Q1 = 1000 - 5 * P1  # Demand function for Week 1
Q2 = 950 - 4.5 * P2  # Demand function for Week 2

# Define revenue functions
R1 = P1 * Q1  # Revenue for Week 1
R2 = P2 * Q2  # Revenue for Week 2

# Set the objective function to maximize total revenue
model.setObjective(R1 + R2, GRB.MAXIMIZE)

# Optimize the model"
model.optimize()

# Print the results
if model.status == GRB.OPTIMAL:
    print(f"Optimal Price for Week 1: {P1.x:.2f}")
    print(f"Optimal Price for Week 2: {P2.x:.2f}")
else:
    print("Optimal solution not found.")

## Part B: Optimal Prices for Week 1 and Week 2 for TechSmart Watch (Remain the same both weeks)

# Create a Gurobi model
model = Model("Optimal Uniform Pricing")

# Define decision variable (single price for both weeks)
P = model.addVar(name="P", vtype=GRB.CONTINUOUS, lb=0)  # Price (non-negative)

# Define demand functions based on Table 2
Q1 = 1000 - 5 * P  # Demand function for Week 1
Q2 = 950 - 4.5 * P  # Demand function for Week 2

# Define total revenue function
R_total = P * Q1 + P * Q2  # Combined revenue for both weeks

# Set the objective function to maximize total revenue
model.setObjective(R_total, GRB.MAXIMIZE)

# Optimize the model
model.optimize()

# Print the results
if model.status == GRB.OPTIMAL:
    print(f"Optimal Uniform Price for Both Weeks: {P.x:.2f}")
else:
    print("Optimal solution not found.")


## Part D: Optimal Prices For Both Products

# Coefficients of Week 1 and Week 2
weeks_to_consider = [1, 2]
data = price_df[price_df['Week'].isin(weeks_to_consider)]

# Extract demand function parameters
smartwatch_params = data[data['Product'] == 'TechFit Smartwatch'].iloc[:, 2:].values
earbuds_params = data[data['Product'] == 'PowerSound Earbuds'].iloc[:, 2:].values

intercepts = np.array([smartwatch_params[:, 0], earbuds_params[:, 0]])
own_price_coeffs = np.array([smartwatch_params[:, 1], earbuds_params[:, 1]])
cross_price_coeffs = np.array([smartwatch_params[:, 2], earbuds_params[:, 2]])

# Initialize parameters
alpha = 0.001  
tolerance = 1e-6  
max_iterations = 10000  

# Initialize prices at zero
prices = np.array([0.0, 0.0])

# Create Gurobi model
model = Model("Projected Gradient Descent")

# Define Gurobi variables for prices
p1 = model.addVar(lb=0, vtype=GRB.CONTINUOUS, name="price_smartwatch")
p2 = model.addVar(lb=0, vtype=GRB.CONTINUOUS, name="price_earbuds")
model.update()

# Projected Gradient Descent Algorithm
for _ in range(max_iterations):
    # Compute gradients
    demands = intercepts + own_price_coeffs * prices[:, None] + cross_price_coeffs * prices[::-1, None]
    revenue = (prices[:, None] * demands).sum(axis=1)
    gradients = demands.sum(axis=1) + prices * own_price_coeffs.sum(axis=1)
    
    # Update prices
    new_prices = prices + alpha * gradients
    
    # Projection step (ensure non-negative prices)
    new_prices = np.maximum(new_prices, 0)
    
    # Check stopping criterion
    if np.linalg.norm(new_prices - prices) < tolerance:
        break
    
    prices = new_prices

# Set optimized prices in Gurobi model
model.addConstr(p1 == prices[0])
model.addConstr(p2 == prices[1])

# Optimize model
model.optimize()

# Optimal Prices
print(f"Optimal Prices: TechFit Smartwatch: {p1.X}")
print(f"Optimal Prices: PowerSound Earbuds: {p2.X}")

## PART F: Solving the Model for all Constraints and Dynamic Pricing

# Extract relevant coefficients
products = ['TechFit Smartwatch', 'PowerSound Earbuds']

# For the 17 weeks (1-18)
weeks = list(range(1, 18))
data = price_df[price_df['Week'].isin(weeks)]

# Initialize Gurobi model
model = Model("Dynamic Pricing Optimization")

# Decision variables: Prices for each product and week
prices = model.addVars(weeks, products, lb=0, vtype=GRB.CONTINUOUS, name="price")
total_revenue = 0

# Auxiliary variables for min and max prices
min_price = model.addVars(products, vtype=GRB.CONTINUOUS, name="min_price")
max_price = model.addVars(products, vtype=GRB.CONTINUOUS, name="max_price")

# Constraints to define min and max prices
for product in products:
    for week in weeks:
        model.addConstr(min_price[product] <= prices[week, product])
        model.addConstr(max_price[product] >= prices[week, product])

# Define objective function (maximize revenue)
total_revenue = quicksum(
    (row["Intercept"] + row["Own_Price_Coefficient"] * prices[week, product] +
     row["Cross_Price_Coefficient"] * prices[week, 'PowerSound Earbuds' if product == 'TechFit Smartwatch' else 'TechFit Smartwatch']) 
    * prices[week, product]
    for week in weeks for product in products
    for _, row in price_df[(price_df['Week'] == week) & (price_df['Product'] == product)].iterrows()
)

model.setObjective(total_revenue, GRB.MAXIMIZE)

# Price constraints by week
for week in weeks:
    if 1 <= week <= 4:
        model.addConstrs(prices[w, p] == prices[1,p] for p in products for w in range(1,5))
    elif 5 <= week <= 8:
        model.addConstrs(prices[w, p] == prices[5,p] for p in products for w in range(5,9))
        model.addConstrs(prices[5, p] <= prices[1,p] - 10 for p in products for w in range(5,9))
    elif 9 <= week <= 11:
        model.addConstrs(prices[w, p] == prices[9,p] for p in products for w in range(9,12))
        model.addConstrs(prices[9, p] >= prices[1,p] + 20 for p in products for w in range(9,12))
    elif week == 12:
        model.addConstrs(prices[12, p] <= prices[w, p] - 5 for p in products for w in weeks if w not in [12, 16])
    elif 13 <= week <= 15:
        model.addConstrs(prices[w, p] == prices[13,p] for p in products for w in range(13,16))
        model.addConstrs(prices[13, p] >= prices[5,p] + 10 for p in products for w in range(13,16))
        model.addConstrs(prices[13, p] <= prices[1,p] for p in products for w in range(13,16))
    elif week == 16:
        model.addConstrs(prices[16, p] >= prices[12, p] + 4 for p in products)
        model.addConstrs(prices[16, p] <= prices[w, p] - 6 for p in products for w in weeks if w not in [12, 16])
    elif week == 17:
        model.addConstrs(prices[17, p] >= prices[w,p] + 15 for p in products for w in weeks if w not in [17])

# Optimize model
model.optimize()

# Retrieve optimal revenue
if model.status == GRB.OPTIMAL:
    optimal_revenue = model.objVal
    print(f"Optimal Revenue over 17-week period: {optimal_revenue}\n")
    
    optimal_prices = {
        week: {product: round(prices[week, product].x, 2) for product in products} 
        for week in weeks
    }
    
    print("Optimal Prices by Week:\n")
    for week, price_data in optimal_prices.items():
        print(f"Week {week}:")
        for product, price in price_data.items():
            print(f"  {product}: ${price}")
else:
    print("Model did not find an optimal solution.")

## PART G: Product Price Graph
# Extract weeks and corresponding optimal prices
weeks = list(range(1, 18))  # Weeks 1 to 17
techfit_prices = [optimal_prices[w]["TechFit Smartwatch"] for w in weeks]
earbuds_prices = [optimal_prices[w]["PowerSound Earbuds"] for w in weeks]

# Plot price dynamics over 17 weeks
plt.figure(figsize=(10, 5))
plt.plot(weeks, techfit_prices, label="TechFit Smartwatch", marker="o", linestyle="-")
plt.plot(weeks, earbuds_prices, label="PowerSound Earbuds", marker="s", linestyle="-")

# Formatting
plt.xlabel("Week")
plt.ylabel("Price ($)")
plt.title("Price Dynamics Over 17 Weeks")
plt.legend()
plt.grid(True)

# Show the plot
plt.show()

## PART H)
# Load the price response dataset
file_path = "https://raw.githubusercontent.com/selvinfurtado01/operational_reserach/refs/heads/main/price_response.csv" 
price_data = pd.read_csv(file_path)

# Function to calculate total revenue for a given single price across all weeks
def total_revenue_single_price(P, data):
    revenue = 0
    for week in data["Week"].unique():
        week_data = data[data["Week"] == week]
        
        for _, row in week_data.iterrows():
            demand = row["Intercept"] + (row["Own_Price_Coefficient"] * P) + (row["Cross_Price_Coefficient"] * P)
            demand = max(demand, 0)  # Ensure non-negative demand
            revenue += demand * P  # Revenue = Price * Demand
            
    return -revenue  # Minimize negative revenue (to maximize revenue)

# **Optimize for the best single constrained price**
result = minimize_scalar(total_revenue_single_price, bounds=(0, max(price_data["Intercept"])), args=(price_data,), method='bounded')
optimal_constrained_price = result.x
optimal_constrained_revenue = -result.fun  # Convert back from negative revenue

# **Calculate Unconstrained Dynamic Pricing Revenue**
def calculate_revenue_unconstrained(data):
    revenue = 0
    avg_price = data["Intercept"].mean()
    
    for week in data["Week"].unique():
        week_data = data[data["Week"] == week]
        
        for _, row in week_data.iterrows():
            if row["Own_Price_Coefficient"] != 0:
                price = (row["Intercept"] + row["Cross_Price_Coefficient"] * avg_price) / (-2 * row["Own_Price_Coefficient"])
            else:
                price = row["Intercept"]  # Fallback in case of zero coefficient

            price = max(price, 0)
            demand = row["Intercept"] + (row["Own_Price_Coefficient"] * price) + (row["Cross_Price_Coefficient"] * avg_price)
            demand = max(demand, 0)
            revenue += demand * price

    return revenue

# Compute optimal revenue for Unconstrained Dynamic Pricing
optimal_unconstrained_revenue = calculate_revenue_unconstrained(price_data)

# Create a DataFrame to compare revenues
dynamic_pricing_comparison = pd.DataFrame({
    "Pricing Strategy": ["Unconstrained Dynamic Pricing", "Optimized Constrained Dynamic Pricing"],
    "Total Optimal Revenue": [optimal_unconstrained_revenue, optimal_constrained_revenue]
})

# Format numbers to two decimal places
dynamic_pricing_comparison["Total Optimal Revenue"] = dynamic_pricing_comparison["Total Optimal Revenue"].apply(lambda x: "{:,.2f}".format(x))


# Print the updated revenue comparison
print(dynamic_pricing_comparison)
print(f"Optimal Single Price for Constrained Dynamic Pricing: {optimal_constrained_price:.2f}")

# QUESTION 2
## PART A)

# Load hotel dataset
hotel_data = pd.read_csv("https://raw.githubusercontent.com/selvinfurtado01/operational_reserach/refs/heads/main/hotels.csv")

# Parameters
num_attendants = 8  # Given in the question
max_overtime_hours = 2  # Maximum overtime allowed
base_hours = 8  # Regular work hours
hourly_wage = 25  # Hourly wage for attendants
overtime_multiplier = 1.5  # Overtime pay factor

# Create Gurobi model
model_a = gp.Model("Hotel_Overtime_Tracking")

# Decision Variables
x = model_a.addVars(num_attendants, len(hotel_data), vtype=GRB.BINARY, name="Assign")
# x[i, r] = 1 if attendant i cleans room r

overtime = model_a.addVars(num_attendants, vtype=GRB.BINARY, name="Overtime")
# overtime[i] = 1 if attendant i exceeds regular work hours

# Constraints

# (1) Each room must be assigned to exactly one attendant
for r in range(len(hotel_data)):
    model_a.addConstr(gp.quicksum(x[i, r] for i in range(num_attendants)) == 1, f"Room_Assignment_{r}")

# (2) Work hours constraint (base hours + overtime)
for i in range(num_attendants):
    total_hours = gp.quicksum(x[i, r] * hotel_data.iloc[r]["Cleaning_Time_Hours"] for r in range(len(hotel_data)))
    model_a.addConstr(total_hours <= base_hours + max_overtime_hours * overtime[i], f"Work_Hours_{i}")

# (3) Overtime binary variable constraint
for i in range(num_attendants):
    model_a.addConstr(overtime[i] * base_hours <= total_hours, f"Overtime_Definition_{i}")

# Objective Function: Minimize staffing cost
model_a.setObjective(
    gp.quicksum(x[i, r] * hourly_wage * base_hours for i in range(num_attendants) for r in range(len(hotel_data))) +
    gp.quicksum(overtime[i] * hourly_wage * overtime_multiplier * max_overtime_hours for i in range(num_attendants)),
    GRB.MINIMIZE
)

# Solve model
model_a.optimize()

# Print results
if model_a.status == GRB.OPTIMAL:
    print("Optimal Solution for Part (a) Found!\n")
    for i in range(num_attendants):
        assigned_rooms = [r for r in range(len(hotel_data)) if x[i, r].x > 0.5]
        print(f"Attendant {i+1}: Assigned Rooms {assigned_rooms}")
        print(f"Overtime: {'Yes' if overtime[i].x > 0.5 else 'No'}\n")
else:
    print("No optimal solution found for Part (a).")

## PART B)

# Parameters
num_attendants = 8  

# Create Gurobi model
model_b = gp.Model("Hotel_Floor_Assignment")

# Decision Variables
x = model_b.addVars(num_attendants, len(hotel_data), vtype=GRB.BINARY, name="Assign")
# x[i, r] = 1 if attendant i cleans room r

f = model_b.addVars(num_attendants, hotel_data["Floor"].nunique(), vtype=GRB.BINARY, name="FloorAssignment")
# f[i, k] = 1 if attendant i is assigned to at least one room on floor k

# Constraints

# (1) Each room must be assigned to exactly one attendant
for r in range(len(hotel_data)):
    model_b.addConstr(gp.quicksum(x[i, r] for i in range(num_attendants)) == 1, f"Room_Assignment_{r}")

# (2) Floor assignment constraint
for i in range(num_attendants):
    for k in range(hotel_data["Floor"].nunique()):
        assigned_rooms = [r for r in range(len(hotel_data)) if hotel_data.iloc[r]["Floor"] == k + 1]
        model_b.addConstr(f[i, k] >= gp.quicksum(x[i, r] for r in assigned_rooms), f"Floor_Assignment_{i}_{k}")

# Objective Function: Minimize the number of attendants assigned to floors
model_b.setObjective(
    gp.quicksum(f[i, k] for i in range(num_attendants) for k in range(hotel_data["Floor"].nunique())),
    GRB.MINIMIZE
)

# Solve model
model_b.optimize()

# Print results
if model_b.status == GRB.OPTIMAL:
    print("Optimal Solution for Part (b) Found!\n")
    for i in range(num_attendants):
        assigned_floors = [k + 1 for k in range(hotel_data["Floor"].nunique()) if f[i, k].x > 0.5]
        print(f"Attendant {i+1}: Assigned Floors {assigned_floors}\n")
else:
    print("No optimal solution found for Part (b).")

## PART E: Optimal Cost for Solving the Binary Program

# Load hotel dataset
hotel_data = pd.read_csv("https://raw.githubusercontent.com/selvinfurtado01/operational_reserach/refs/heads/main/hotels.csv")

# Parameters
num_attendants = 8  
max_overtime_hours = 2  
base_hours = 8  
hourly_wage = 25  
overtime_multiplier = 1.5  
floor_violation_penalty = 75 

# Create a new Gurobi model
model_e = gp.Model("Hotel_Optimization_Part_E")

# Decision Variables
x = model_e.addVars(num_attendants, len(hotel_data), vtype=GRB.BINARY, name="Assign")  
overtime = model_e.addVars(num_attendants, vtype=GRB.BINARY, name="Overtime")  
f = model_e.addVars(num_attendants, hotel_data["Floor"].nunique(), vtype=GRB.BINARY, name="FloorAssignment")
floor_violation = model_e.addVars(num_attendants, vtype=GRB.INTEGER, name="FloorViolation")  

# Constraints

# (1) Each room must be assigned to exactly one attendant
for r in range(len(hotel_data)):
    model_e.addConstr(gp.quicksum(x[i, r] for i in range(num_attendants)) == 1, f"Room_Assignment_{r}")

# (2) Work hours constraint (base hours + overtime)
for i in range(num_attendants):
    total_hours = gp.quicksum(x[i, r] * hotel_data.iloc[r]["Cleaning_Time_Hours"] for r in range(len(hotel_data)))
    model_e.addConstr(total_hours <= base_hours + max_overtime_hours * overtime[i], f"Work_Hours_{i}")

# (3) Overtime binary variable constraint
for i in range(num_attendants):
    model_e.addConstr(overtime[i] * base_hours <= total_hours, f"Overtime_Definition_{i}")

# (4) Floor assignment constraint
for i in range(num_attendants):
    for k in range(hotel_data["Floor"].nunique()):
        assigned_rooms = [r for r in range(len(hotel_data)) if hotel_data.iloc[r]["Floor"] == k + 1]
        model_e.addConstr(f[i, k] >= gp.quicksum(x[i, r] for r in assigned_rooms), f"Floor_Assignment_{i}_{k}")

# (5) Floor violation constraint (only counts if more than 2 floors are assigned)
for i in range(num_attendants):
    model_e.addConstr(floor_violation[i] >= gp.quicksum(f[i, k] for k in range(hotel_data["Floor"].nunique())) - 2, f"Floor_Violation_{i}")
    model_e.addConstr(floor_violation[i] >= 0, f"Non_Negative_Floor_Violation_{i}")

# Objective Function: Minimize staffing cost
model_e.setObjective(
    gp.quicksum(x[i, r] * hotel_data.iloc[r]["Cleaning_Time_Hours"] * hourly_wage for i in range(num_attendants) for r in range(len(hotel_data))) + 
    gp.quicksum((gp.quicksum(x[i, r] * hotel_data.iloc[r]["Cleaning_Time_Hours"] for r in range(len(hotel_data))) - base_hours) 
                * overtime[i] * hourly_wage * overtime_multiplier for i in range(num_attendants)) +
    gp.quicksum(floor_violation[i] * floor_violation_penalty for i in range(num_attendants)),
    GRB.MINIMIZE
)

# Solve model
model_e.optimize()

# Extract results
if model_e.status == GRB.OPTIMAL:
    optimal_cost = model_e.objVal

    # Calculate total overtime hours
    total_overtime_hours = sum(overtime[i].x * max_overtime_hours for i in range(num_attendants) if overtime[i].x > 0.5)

    # Calculate total floor violations
    total_floor_violations = sum(floor_violation[i].x for i in range(num_attendants))

    # Display results
    print(f"Optimal Staffing Cost: ${optimal_cost:.2f}")
    print(f"Total Overtime Hours: {total_overtime_hours}")
    print(f"Total Floor Violations (More than 2 floors): {total_floor_violations}")
else:
    print("No optimal solution found.")

# PART F)

# Create a relaxed version of the integer program
relaxed_model = model_e.relax()

# Apply MILP-specific settings to prevent Gurobi from treating it as MIQP
relaxed_model.setParam(GRB.Param.NonConvex, 2)  # Force MILP, avoid MIQP issues
relaxed_model.setParam(GRB.Param.Presolve, 2)  # Aggressive presolve
relaxed_model.setParam(GRB.Param.Cuts, 2)  # Enable additional cutting planes
relaxed_model.setParam(GRB.Param.MIPFocus, 1)  # Focus on finding feasible solutions
relaxed_model.setParam(GRB.Param.Heuristics, 0.5)  # Increase heuristic search


# Solve the relaxed model
print("\nSolving Relaxed MILP Model...")
relaxed_model.optimize()

# Extract relaxed objective value (optimal staffing cost)
if relaxed_model.status == GRB.OPTIMAL:
    relaxed_optimal_cost = relaxed_model.objVal
    print(f"Relaxed Optimal Staffing Cost: ${relaxed_optimal_cost:.2f}")
else:
    print("No optimal solution found for the relaxed model.")

## It has found a near-optimal solution, but it is struggling to close the last 0.45% of the gap. Such models often get stuck when trying to 
## prove the solution is optimal and Gurobi may keep running indefinitely in an attempt to close this gap
## Stopping at 4,269.60 was a good decision since the improvement would have been small. This is the best solution however, not optimal

# PART G)

# Create a new Gurobi model for the manually relaxed problem
model_g = gp.Model("Hotel_Optimization_Part_G")

# Decision Variables (Now Continuous Instead of Binary)
x = model_g.addVars(num_attendants, len(hotel_data), vtype=GRB.CONTINUOUS, lb=0, ub=1, name="Assign")  
overtime = model_g.addVars(num_attendants, vtype=GRB.CONTINUOUS, lb=0, ub=1, name="Overtime")  
f = model_g.addVars(num_attendants, hotel_data["Floor"].nunique(), vtype=GRB.CONTINUOUS, lb=0, ub=1, name="FloorAssignment")
floor_violation = model_g.addVars(num_attendants, vtype=GRB.CONTINUOUS, lb=0, name="FloorViolation")  

# Constraints 

# (1) Each room must be assigned exactly once (now allowing fractional assignments)
for r in range(len(hotel_data)):
    model_g.addConstr(gp.quicksum(x[i, r] for i in range(num_attendants)) == 1, f"Room_Assignment_{r}")

# (2) Work hours constraint (base hours + overtime)
for i in range(num_attendants):
    total_hours = gp.quicksum(x[i, r] * hotel_data.iloc[r]["Cleaning_Time_Hours"] for r in range(len(hotel_data)))
    model_g.addConstr(total_hours <= base_hours + max_overtime_hours * overtime[i], f"Work_Hours_{i}")

# (3) Overtime constraint (now allowing fractional overtime)
for i in range(num_attendants):
    model_g.addConstr(overtime[i] * base_hours <= total_hours, f"Overtime_Definition_{i}")

# (4) Floor assignment constraint (now allowing fractional floor assignments)
for i in range(num_attendants):
    for k in range(hotel_data["Floor"].nunique()):
        assigned_rooms = [r for r in range(len(hotel_data)) if hotel_data.iloc[r]["Floor"] == k + 1]
        model_g.addConstr(f[i, k] >= gp.quicksum(x[i, r] for r in assigned_rooms), f"Floor_Assignment_{i}_{k}")

# (5) Floor violation constraint (continuous relaxation)
for i in range(num_attendants):
    model_g.addConstr(floor_violation[i] >= gp.quicksum(f[i, k] for k in range(hotel_data["Floor"].nunique())) - 2, f"Floor_Violation_{i}")
    model_g.addConstr(floor_violation[i] >= 0, f"Non_Negative_Floor_Violation_{i}")

# Objective Function: Minimize staffing cost
model_g.setObjective(
    gp.quicksum(x[i, r] * hotel_data.iloc[r]["Cleaning_Time_Hours"] * hourly_wage for i in range(num_attendants) for r in range(len(hotel_data))) + 
    gp.quicksum((gp.quicksum(x[i, r] * hotel_data.iloc[r]["Cleaning_Time_Hours"] for r in range(len(hotel_data))) - base_hours) 
                * overtime[i] * hourly_wage * overtime_multiplier for i in range(num_attendants)) +
    gp.quicksum(floor_violation[i] * floor_violation_penalty for i in range(num_attendants)),
    GRB.MINIMIZE
)

# Apply MILP-Specific Optimizations
model_g.setParam(GRB.Param.NonConvex, 2)  # Force MILP
model_g.setParam(GRB.Param.Presolve, 2)  # Aggressive presolve
model_g.setParam(GRB.Param.Cuts, 2)  # Enable additional cutting planes
model_g.setParam(GRB.Param.MIPFocus, 1)  # Focus on finding feasible solutions
model_g.setParam(GRB.Param.Heuristics, 0.5)  # Increase heuristic search


# Solve the manually relaxed MILP model
print("\nSolving Manually Relaxed MILP Model...")
model_g.optimize()

# Extract results
if model_g.status == GRB.OPTIMAL:
    optimal_relaxed_cost = model_g.objVal
    print(f"\nOptimal Cost (Manual Relaxation): ${optimal_relaxed_cost:.2f}")
else:
    print("\nNo optimal solution found for the manually relaxed model.")

## The best objective value (4,269.60) is the same in both Part (f) and Part (g).
## The best bound is slightly worse in Part (g) (4,249.93 vs. 4,250.39), but the difference is negligible.
## Relaxing binary constraints in Part (g) did NOT improve solving time.
## The optimality gap is nearly identical (0.45% vs. 0.46%), meaning both models reached similar near-optimal solutions.
## Final Conclusion: There is no computational benefit to using the relaxed MILP model.

## PART I)

# Load hotel dataset
hotel_data = pd.read_csv("https://raw.githubusercontent.com/selvinfurtado01/operational_reserach/refs/heads/main/hotels.csv")

# Parameters (given in question)
num_attendants = 8  
max_overtime_hours = 2  
base_hours = 8  
hourly_wage = 25  
overtime_multiplier = 2.0  # Now doubled instead of 1.5x
floor_violation_penalty = 75  

# Create Gurobi model
model_i = gp.Model("Hotel_Staffing_Optimization_Part_I")

# Decision Variables
x = model_i.addVars(num_attendants, len(hotel_data), vtype=GRB.BINARY, name="Assign")
overtime = model_i.addVars(num_attendants, vtype=GRB.BINARY, name="Overtime")
f = model_i.addVars(num_attendants, hotel_data["Floor"].nunique(), vtype=GRB.BINARY, name="FloorAssignment")

# Floor Violation Binary Variable
floor_violation = model_i.addVars(num_attendants, vtype=GRB.INTEGER, name="Floor_Violation")

# Constraints

# (1) Each room must be assigned to exactly one attendant
for r in range(len(hotel_data)):
    model_i.addConstr(gp.quicksum(x[i, r] for i in range(num_attendants)) == 1, f"Room_Assignment_{r}")

# (2) Work hours constraint (base hours + overtime)
for i in range(num_attendants):
    total_hours = gp.quicksum(x[i, r] * hotel_data.iloc[r]["Cleaning_Time_Hours"] for r in range(len(hotel_data)))
    model_i.addConstr(total_hours <= base_hours + max_overtime_hours * overtime[i], f"Work_Hours_{i}")

# (3) Overtime binary variable constraint
for i in range(num_attendants):
    model_i.addConstr(overtime[i] * base_hours <= total_hours, f"Overtime_Definition_{i}")

# (4) Floor assignment constraint
for i in range(num_attendants):
    for k in range(hotel_data["Floor"].nunique()):
        assigned_rooms = [r for r in range(len(hotel_data)) if hotel_data.iloc[r]["Floor"] == k + 1]
        model_i.addConstr(f[i, k] >= gp.quicksum(x[i, r] for r in assigned_rooms), f"Floor_Assignment_{i}_{k}")

# (5) Floor violation constraint (only counts if more than 2 floors are assigned)
for i in range(num_attendants):
    model_i.addConstr(floor_violation[i] >= gp.quicksum(f[i, k] for k in range(hotel_data["Floor"].nunique())) - 2, f"Floor_Violation_{i}")
    model_i.addConstr(floor_violation[i] >= 0, f"Non_Negative_Floor_Violation_{i}")

# Objective Function: Minimize staffing cost
model_i.setObjective(
    gp.quicksum(x[i, r] * hourly_wage * base_hours for i in range(num_attendants) for r in range(len(hotel_data))) +
    gp.quicksum(overtime[i] * hourly_wage * overtime_multiplier * max_overtime_hours for i in range(num_attendants)) +
    gp.quicksum(floor_violation[i] * floor_violation_penalty for i in range(num_attendants)),
    GRB.MINIMIZE
)

# Solve model
model_i.optimize()

# Extract Results
optimal_cost = model_i.objVal if model_i.status == GRB.OPTIMAL else None
total_overtime_hours = sum(overtime[i].x * max_overtime_hours for i in range(num_attendants) if model_i.status == GRB.OPTIMAL)
total_floor_violations = sum(floor_violation[i].x for i in range(num_attendants) if model_i.status == GRB.OPTIMAL)

# Print results
if model_i.status == GRB.OPTIMAL:
    print(f"Optimal Staffing Cost: ${optimal_cost:.2f}")
    print(f"Total Overtime Hours: {total_overtime_hours}")
    print(f"Total Floor Violations (More than 2 floors): {total_floor_violations}")
else:
    print("No optimal solution found for Part (i).")


